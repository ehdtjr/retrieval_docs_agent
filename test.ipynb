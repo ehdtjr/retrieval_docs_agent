{
 "cells": [
  {
   "cell_type": "code",
   "execution_count": 5,
   "metadata": {},
   "outputs": [
    {
     "name": "stdout",
     "output_type": "stream",
     "text": [
      "                                                                           esgScores\n",
      "maxAge                                                                         86400\n",
      "totalEsg                                                                       12.23\n",
      "environmentScore                                                                2.73\n",
      "socialScore                                                                     3.86\n",
      "governanceScore                                                                 5.65\n",
      "ratingYear                                                                      2025\n",
      "ratingMonth                                                                        3\n",
      "highestControversy                                                               2.0\n",
      "peerCount                                                                        120\n",
      "esgPerformance                                                              LAG_PERF\n",
      "peerGroup                                                             Semiconductors\n",
      "relatedControversy                                              [Customer Incidents]\n",
      "peerEsgScorePerformance            {'min': 8.46, 'avg': 23.479166666666668, 'max'...\n",
      "peerGovernancePerformance          {'min': 2.14, 'avg': 5.2121153846153865, 'max'...\n",
      "peerSocialPerformance              {'min': 2.41, 'avg': 5.854615384615386, 'max':...\n",
      "peerEnvironmentPerformance         {'min': 2.6, 'avg': 8.042115384615387, 'max': ...\n",
      "peerHighestControversyPerformance  {'min': 0.0, 'avg': 0.5583333333333333, 'max':...\n",
      "percentile                                                                      None\n",
      "environmentPercentile                                                           None\n",
      "socialPercentile                                                                None\n",
      "governancePercentile                                                            None\n",
      "adult                                                                          False\n",
      "alcoholic                                                                      False\n",
      "animalTesting                                                                  False\n",
      "catholic                                                                        None\n",
      "controversialWeapons                                                           False\n",
      "smallArms                                                                      False\n",
      "furLeather                                                                     False\n",
      "gambling                                                                       False\n",
      "gmo                                                                            False\n",
      "militaryContract                                                               False\n",
      "nuclear                                                                        False\n",
      "pesticides                                                                     False\n",
      "palmOil                                                                        False\n",
      "coal                                                                           False\n",
      "tobacco                                                                        False\n"
     ]
    }
   ],
   "source": [
    "import yfinance as yf\n",
    "ticker = yf.Ticker(\"NVDA\")\n",
    "esg_data = ticker.sustainability\n",
    "print(esg_data)"
   ]
  },
  {
   "cell_type": "code",
   "execution_count": null,
   "metadata": {},
   "outputs": [],
   "source": []
  }
 ],
 "metadata": {
  "kernelspec": {
   "display_name": "retrieval-docs-agent-M9JEj3ZP-py3.11",
   "language": "python",
   "name": "python3"
  },
  "language_info": {
   "codemirror_mode": {
    "name": "ipython",
    "version": 3
   },
   "file_extension": ".py",
   "mimetype": "text/x-python",
   "name": "python",
   "nbconvert_exporter": "python",
   "pygments_lexer": "ipython3",
   "version": "3.11.11"
  }
 },
 "nbformat": 4,
 "nbformat_minor": 2
}
