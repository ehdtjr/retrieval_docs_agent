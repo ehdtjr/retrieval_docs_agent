{
 "cells": [
  {
   "cell_type": "code",
   "execution_count": null,
   "metadata": {},
   "outputs": [],
   "source": [
    "from dotenv import load_dotenv\n",
    "\n",
    "load_dotenv()"
   ]
  },
  {
   "cell_type": "code",
   "execution_count": 3,
   "metadata": {},
   "outputs": [],
   "source": [
    "from langchain_openai import ChatOpenAI\n",
    "from langchain_core.prompts import PromptTemplate\n",
    "\n",
    "llm = ChatOpenAI(model=\"gpt-4o-mini\")\n",
    "\n",
    "template_1 = \"너는 해외 금융 투자 전문가야. {ticker} 종목에 대해서 투자 판단을 내릴 수 있도록 보고서 형태로 일목요연하게 정리해줘.\"\n",
    "template_2 = \"너는 해외 금융 투자 전문가야. {ticker} 종목에 대해서 {context}를 활용해서 투자 판단을 내릴 수 있도록 보고서 형태로 일목요연하게 정리해줘.\"\n",
    "\n",
    "template_3 = \" 너는 해외 금융 투자 전문가야. {query} 에 대해서 답변을 생성해줘\"\n",
    "template_4 = \" 너는 해외 금융 투자 전문가야. {query} 에 대해서 {context}를 활용해서 답변을 생성해줘\"\n",
    "\n",
    "prompt_1 = PromptTemplate(\n",
    "    template=template_1,\n",
    "    input_variables=[\"ticker\"],\n",
    ")\n",
    "\n",
    "prompt_2 = PromptTemplate(\n",
    "    template=template_2,\n",
    "    input_variables=[\"ticker\", \"context\"],\n",
    ")\n",
    "\n",
    "prompt_3 = PromptTemplate(\n",
    "    template=template_3,\n",
    "    input_variables=[\"query\"],\n",
    ")\n",
    "\n",
    "prompt_4 = PromptTemplate(\n",
    "    template=template_4,\n",
    "    input_variables=[\"query\", \"context\"],\n",
    ")\n",
    "\n",
    "chain_1 = prompt_1 | llm\n",
    "chain_2 = prompt_2 | llm\n",
    "chain_3 = prompt_3 | llm\n",
    "chain_4 = prompt_4 | llm"
   ]
  },
  {
   "cell_type": "code",
   "execution_count": null,
   "metadata": {},
   "outputs": [],
   "source": [
    "from postgresql import get_company_financial_data, connect_database\n",
    "\n",
    "query = \"애플의 수익성과 현금 흐름은 어떤가요? 투자하기에 좋은 기업인가요?\"\n",
    "ticker = \"AAPL\"\n",
    "\n",
    "# 데이터베이스 연결 생성\n",
    "conn = connect_database()\n",
    "\n",
    "try:\n",
    "    # 애플(AAPL) 재무 데이터 조회\n",
    "    financial_data = get_company_financial_data(conn, ticker)\n",
    "    \n",
    "    # 데이터가 있는 경우에만 처리\n",
    "    if financial_data:\n",
    "        print(chain_2.invoke({\"ticker\": ticker, \"context\": financial_data}).content)\n",
    "    else:\n",
    "        print(f\"{ticker} 기업의 재무 데이터를 찾을 수 없습니다.\")\n",
    "finally:\n",
    "    # 사용 후 연결 닫기\n",
    "    conn.close()"
   ]
  }
 ],
 "metadata": {
  "kernelspec": {
   "display_name": "retrieval-docs-agent-M9JEj3ZP-py3.11",
   "language": "python",
   "name": "python3"
  },
  "language_info": {
   "codemirror_mode": {
    "name": "ipython",
    "version": 3
   },
   "file_extension": ".py",
   "mimetype": "text/x-python",
   "name": "python",
   "nbconvert_exporter": "python",
   "pygments_lexer": "ipython3",
   "version": "3.11.11"
  }
 },
 "nbformat": 4,
 "nbformat_minor": 2
}
